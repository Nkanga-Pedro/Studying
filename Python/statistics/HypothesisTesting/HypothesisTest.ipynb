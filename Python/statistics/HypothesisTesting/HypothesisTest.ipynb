import pandas as pd
import numpy as np
import seaborn as sns
sns.set()
import matplotlib.pyplot as plt


from scipy.stats import f_oneway
from statsmodels.stats.weightstats import ztest

# Create df
df = pd.DataFrame({'id': np.arange(1,51),
                  'val': np.random.randn(50)})
df.head()

# Sample 1 mean
df.val.mean()

# Create df2
df2 = pd.DataFrame({'id': np.arange(1,31),
                   'val': np.random.randint(40,50, size=30)/10})
df2.val.mean()

# Test Sample 1 vs Sample 2
sample1 = df.val
mean_sample2 = df2.val.mean()

stat, p = ztest(sample1, value=mean_sample2)
print(f'Test statistics: {stat}')
print(f'p-Value: {p}')


"Create a sample 3 out of the sample 1. It is expected that the p-value will be higher than 5%"
# Create df3
df3 = pd.DataFrame({'id': np.arange(1,31),
                   'val': np.random.choice(df['val'].values, size=30)})

# Mean sample 3
df3.val.mean()

# Test Sample 1 vs Sample 3
sample1 = df.val
mean_sample3 = df3.val.mean()

stat, p = ztest(sample1, value=mean_sample3)
print(f'Test statistics: {stat}')
print(f'p-Value: {p}')

# Plot the 3 samples distributions
plt.figure(figsize=(12,7))
g= sns.kdeplot(data=df, x='val', fill=True)
g= sns.kdeplot(data=df2, x='val', fill=True)
g= sns.kdeplot(data=df3, x='val', fill=True)
plt.legend(['Sample1', 'Sample2', 'Sample3'])


