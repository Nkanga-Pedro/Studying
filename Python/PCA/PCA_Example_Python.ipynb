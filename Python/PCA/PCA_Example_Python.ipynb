{
  "nbformat": 4,
  "nbformat_minor": 0,
  "metadata": {
    "colab": {
      "name": "PCA_Example Python.ipynb",
      "provenance": [],
      "collapsed_sections": []
    },
    "kernelspec": {
      "name": "python3",
      "display_name": "Python 3"
    },
    "language_info": {
      "name": "python"
    }
  },
  "cells": [
    {
      "cell_type": "code",
      "metadata": {
        "id": "luTX-En7uYQb"
      },
      "source": [
        "import pandas as pd\n",
        "import random as rd\n",
        "import numpy as np\n",
        "from sklearn.decomposition import PCA\n",
        "from sklearn import preprocessing\n",
        "import matplotlib.pyplot as plt\n"
      ],
      "execution_count": 1,
      "outputs": []
    },
    {
      "cell_type": "markdown",
      "metadata": {
        "id": "A36ujk7yqGnP"
      },
      "source": [
        "# Data"
      ]
    },
    {
      "cell_type": "code",
      "metadata": {
        "id": "cnZXbBpb495R"
      },
      "source": [
        "observations = ['obs' + str(i) for i in range(1,101)]\n",
        "\n",
        "sA = ['sampleA' + str(i) for i in range(1,6)]\n",
        "sB = ['sampleB' + str(i) for i in range(1,6)]"
      ],
      "execution_count": 2,
      "outputs": []
    },
    {
      "cell_type": "code",
      "metadata": {
        "id": "C_Jow8wI50cN"
      },
      "source": [
        "data = pd.DataFrame(columns=[*sA, *sB], index=observations)"
      ],
      "execution_count": 3,
      "outputs": []
    },
    {
      "cell_type": "code",
      "metadata": {
        "id": "6RUBIYB_uj8F"
      },
      "source": [
        "for observation in data.index:\n",
        "  data.loc[observation, 'sampleA1':'sampleA5'] = np.random.poisson(lam=rd.randrange(10,1000), size=5)\n",
        "  data.loc[observation, 'sampleB1':'sampleb5'] = np.random.poisson(lam=rd.randrange(10,1000), size=5)"
      ],
      "execution_count": 4,
      "outputs": []
    },
    {
      "cell_type": "code",
      "metadata": {
        "colab": {
          "base_uri": "https://localhost:8080/",
          "height": 206
        },
        "id": "u__BYxUazbro",
        "outputId": "b4c38c88-e203-4300-838a-2e9b39bd0066"
      },
      "source": [
        "data.head()"
      ],
      "execution_count": 5,
      "outputs": [
        {
          "output_type": "execute_result",
          "data": {
            "text/html": [
              "\n",
              "  <div id=\"df-338166d0-2eb0-4c75-8c0d-9b5487a23608\">\n",
              "    <div class=\"colab-df-container\">\n",
              "      <div>\n",
              "<style scoped>\n",
              "    .dataframe tbody tr th:only-of-type {\n",
              "        vertical-align: middle;\n",
              "    }\n",
              "\n",
              "    .dataframe tbody tr th {\n",
              "        vertical-align: top;\n",
              "    }\n",
              "\n",
              "    .dataframe thead th {\n",
              "        text-align: right;\n",
              "    }\n",
              "</style>\n",
              "<table border=\"1\" class=\"dataframe\">\n",
              "  <thead>\n",
              "    <tr style=\"text-align: right;\">\n",
              "      <th></th>\n",
              "      <th>sampleA1</th>\n",
              "      <th>sampleA2</th>\n",
              "      <th>sampleA3</th>\n",
              "      <th>sampleA4</th>\n",
              "      <th>sampleA5</th>\n",
              "      <th>sampleB1</th>\n",
              "      <th>sampleB2</th>\n",
              "      <th>sampleB3</th>\n",
              "      <th>sampleB4</th>\n",
              "      <th>sampleB5</th>\n",
              "    </tr>\n",
              "  </thead>\n",
              "  <tbody>\n",
              "    <tr>\n",
              "      <th>obs1</th>\n",
              "      <td>532</td>\n",
              "      <td>567</td>\n",
              "      <td>604</td>\n",
              "      <td>591</td>\n",
              "      <td>560</td>\n",
              "      <td>178</td>\n",
              "      <td>162</td>\n",
              "      <td>174</td>\n",
              "      <td>177</td>\n",
              "      <td>168</td>\n",
              "    </tr>\n",
              "    <tr>\n",
              "      <th>obs2</th>\n",
              "      <td>919</td>\n",
              "      <td>989</td>\n",
              "      <td>907</td>\n",
              "      <td>1012</td>\n",
              "      <td>913</td>\n",
              "      <td>891</td>\n",
              "      <td>866</td>\n",
              "      <td>855</td>\n",
              "      <td>888</td>\n",
              "      <td>859</td>\n",
              "    </tr>\n",
              "    <tr>\n",
              "      <th>obs3</th>\n",
              "      <td>40</td>\n",
              "      <td>54</td>\n",
              "      <td>62</td>\n",
              "      <td>58</td>\n",
              "      <td>56</td>\n",
              "      <td>900</td>\n",
              "      <td>953</td>\n",
              "      <td>960</td>\n",
              "      <td>887</td>\n",
              "      <td>901</td>\n",
              "    </tr>\n",
              "    <tr>\n",
              "      <th>obs4</th>\n",
              "      <td>20</td>\n",
              "      <td>19</td>\n",
              "      <td>16</td>\n",
              "      <td>17</td>\n",
              "      <td>24</td>\n",
              "      <td>472</td>\n",
              "      <td>497</td>\n",
              "      <td>484</td>\n",
              "      <td>498</td>\n",
              "      <td>497</td>\n",
              "    </tr>\n",
              "    <tr>\n",
              "      <th>obs5</th>\n",
              "      <td>506</td>\n",
              "      <td>490</td>\n",
              "      <td>483</td>\n",
              "      <td>504</td>\n",
              "      <td>516</td>\n",
              "      <td>933</td>\n",
              "      <td>918</td>\n",
              "      <td>921</td>\n",
              "      <td>931</td>\n",
              "      <td>944</td>\n",
              "    </tr>\n",
              "  </tbody>\n",
              "</table>\n",
              "</div>\n",
              "      <button class=\"colab-df-convert\" onclick=\"convertToInteractive('df-338166d0-2eb0-4c75-8c0d-9b5487a23608')\"\n",
              "              title=\"Convert this dataframe to an interactive table.\"\n",
              "              style=\"display:none;\">\n",
              "        \n",
              "  <svg xmlns=\"http://www.w3.org/2000/svg\" height=\"24px\"viewBox=\"0 0 24 24\"\n",
              "       width=\"24px\">\n",
              "    <path d=\"M0 0h24v24H0V0z\" fill=\"none\"/>\n",
              "    <path d=\"M18.56 5.44l.94 2.06.94-2.06 2.06-.94-2.06-.94-.94-2.06-.94 2.06-2.06.94zm-11 1L8.5 8.5l.94-2.06 2.06-.94-2.06-.94L8.5 2.5l-.94 2.06-2.06.94zm10 10l.94 2.06.94-2.06 2.06-.94-2.06-.94-.94-2.06-.94 2.06-2.06.94z\"/><path d=\"M17.41 7.96l-1.37-1.37c-.4-.4-.92-.59-1.43-.59-.52 0-1.04.2-1.43.59L10.3 9.45l-7.72 7.72c-.78.78-.78 2.05 0 2.83L4 21.41c.39.39.9.59 1.41.59.51 0 1.02-.2 1.41-.59l7.78-7.78 2.81-2.81c.8-.78.8-2.07 0-2.86zM5.41 20L4 18.59l7.72-7.72 1.47 1.35L5.41 20z\"/>\n",
              "  </svg>\n",
              "      </button>\n",
              "      \n",
              "  <style>\n",
              "    .colab-df-container {\n",
              "      display:flex;\n",
              "      flex-wrap:wrap;\n",
              "      gap: 12px;\n",
              "    }\n",
              "\n",
              "    .colab-df-convert {\n",
              "      background-color: #E8F0FE;\n",
              "      border: none;\n",
              "      border-radius: 50%;\n",
              "      cursor: pointer;\n",
              "      display: none;\n",
              "      fill: #1967D2;\n",
              "      height: 32px;\n",
              "      padding: 0 0 0 0;\n",
              "      width: 32px;\n",
              "    }\n",
              "\n",
              "    .colab-df-convert:hover {\n",
              "      background-color: #E2EBFA;\n",
              "      box-shadow: 0px 1px 2px rgba(60, 64, 67, 0.3), 0px 1px 3px 1px rgba(60, 64, 67, 0.15);\n",
              "      fill: #174EA6;\n",
              "    }\n",
              "\n",
              "    [theme=dark] .colab-df-convert {\n",
              "      background-color: #3B4455;\n",
              "      fill: #D2E3FC;\n",
              "    }\n",
              "\n",
              "    [theme=dark] .colab-df-convert:hover {\n",
              "      background-color: #434B5C;\n",
              "      box-shadow: 0px 1px 3px 1px rgba(0, 0, 0, 0.15);\n",
              "      filter: drop-shadow(0px 1px 2px rgba(0, 0, 0, 0.3));\n",
              "      fill: #FFFFFF;\n",
              "    }\n",
              "  </style>\n",
              "\n",
              "      <script>\n",
              "        const buttonEl =\n",
              "          document.querySelector('#df-338166d0-2eb0-4c75-8c0d-9b5487a23608 button.colab-df-convert');\n",
              "        buttonEl.style.display =\n",
              "          google.colab.kernel.accessAllowed ? 'block' : 'none';\n",
              "\n",
              "        async function convertToInteractive(key) {\n",
              "          const element = document.querySelector('#df-338166d0-2eb0-4c75-8c0d-9b5487a23608');\n",
              "          const dataTable =\n",
              "            await google.colab.kernel.invokeFunction('convertToInteractive',\n",
              "                                                     [key], {});\n",
              "          if (!dataTable) return;\n",
              "\n",
              "          const docLinkHtml = 'Like what you see? Visit the ' +\n",
              "            '<a target=\"_blank\" href=https://colab.research.google.com/notebooks/data_table.ipynb>data table notebook</a>'\n",
              "            + ' to learn more about interactive tables.';\n",
              "          element.innerHTML = '';\n",
              "          dataTable['output_type'] = 'display_data';\n",
              "          await google.colab.output.renderOutput(dataTable, element);\n",
              "          const docLink = document.createElement('div');\n",
              "          docLink.innerHTML = docLinkHtml;\n",
              "          element.appendChild(docLink);\n",
              "        }\n",
              "      </script>\n",
              "    </div>\n",
              "  </div>\n",
              "  "
            ],
            "text/plain": [
              "     sampleA1 sampleA2 sampleA3 sampleA4  ... sampleB2 sampleB3 sampleB4 sampleB5\n",
              "obs1      532      567      604      591  ...      162      174      177      168\n",
              "obs2      919      989      907     1012  ...      866      855      888      859\n",
              "obs3       40       54       62       58  ...      953      960      887      901\n",
              "obs4       20       19       16       17  ...      497      484      498      497\n",
              "obs5      506      490      483      504  ...      918      921      931      944\n",
              "\n",
              "[5 rows x 10 columns]"
            ]
          },
          "metadata": {},
          "execution_count": 5
        }
      ]
    },
    {
      "cell_type": "markdown",
      "metadata": {
        "id": "xanvjJBTqJXW"
      },
      "source": [
        "# Scaling"
      ]
    },
    {
      "cell_type": "code",
      "metadata": {
        "id": "AlXtJYdFqDBT"
      },
      "source": [
        "# Transposta porque Samples tem que ser ROWS\n",
        "scaled_data = preprocessing.scale(data.T)"
      ],
      "execution_count": 6,
      "outputs": []
    },
    {
      "cell_type": "markdown",
      "metadata": {
        "id": "nAxaJRCBqjSw"
      },
      "source": [
        "# PCA"
      ]
    },
    {
      "cell_type": "code",
      "metadata": {
        "id": "Ge2fgM4GqQBv"
      },
      "source": [
        "pca = PCA()"
      ],
      "execution_count": 7,
      "outputs": []
    },
    {
      "cell_type": "code",
      "metadata": {
        "colab": {
          "base_uri": "https://localhost:8080/"
        },
        "id": "s-0jFSL0qlN2",
        "outputId": "768ca51e-ad3d-442c-ad72-1308b656bd6a"
      },
      "source": [
        "#fit (learn the parameters of the data)\n",
        "pca.fit(scaled_data)"
      ],
      "execution_count": 8,
      "outputs": [
        {
          "output_type": "execute_result",
          "data": {
            "text/plain": [
              "PCA()"
            ]
          },
          "metadata": {},
          "execution_count": 8
        }
      ]
    },
    {
      "cell_type": "code",
      "metadata": {
        "id": "wP0HFICtqoKG"
      },
      "source": [
        "# transform (apply PCA)\n",
        "pca_data = pca.transform(scaled_data)"
      ],
      "execution_count": 9,
      "outputs": []
    },
    {
      "cell_type": "code",
      "metadata": {
        "id": "G1LfQC_BqvLP"
      },
      "source": [
        "per_var = np.round(pca.explained_variance_ratio_*100, 1)\n",
        "labels = ['PC' + str(x) for x in range(1, len(per_var)+1)]"
      ],
      "execution_count": 10,
      "outputs": []
    },
    {
      "cell_type": "code",
      "metadata": {
        "colab": {
          "base_uri": "https://localhost:8080/",
          "height": 378
        },
        "id": "LnXhPs2irCRm",
        "outputId": "517a0210-5909-4390-8d5d-a4d0e4f936f6"
      },
      "source": [
        "plt.figure(figsize=(12,6))\n",
        "plt.bar(x=labels, height=per_var)\n",
        "plt.ylabel('Variance explained')\n",
        "plt.ylim((0, 100))\n",
        "\n",
        "for i, pc in enumerate(per_var):\n",
        "  plt.annotate(str(pc)+'%', (i, pc+2))\n",
        "\n",
        "plt.show()"
      ],
      "execution_count": 11,
      "outputs": [
        {
          "output_type": "display_data",
          "data": {
            "image/png": "[encoded data removed]",
            "text/plain": [
              "<Figure size 864x432 with 1 Axes>"
            ]
          },
          "metadata": {
            "needs_background": "light"
          }
        }
      ]
    },
    {
      "cell_type": "code",
      "metadata": {
        "id": "ERPuozQ3rMWw"
      },
      "source": [
        "pca_df = pd.DataFrame(pca_data, index=[*sA, *sB], columns=labels)"
      ],
      "execution_count": 12,
      "outputs": []
    },
    {
      "cell_type": "code",
      "metadata": {
        "colab": {
          "base_uri": "https://localhost:8080/",
          "height": 363
        },
        "id": "woE0DoRrrf5R",
        "outputId": "772d4040-24fa-4c8c-f3e9-0d13f578e403"
      },
      "source": [
        "pca_df"
      ],
      "execution_count": 13,
      "outputs": [
        {
          "output_type": "execute_result",
          "data": {
            "text/html": [
              "\n",
              "  <div id=\"df-07d45904-31d2-4cb0-84de-52b18ef6a523\">\n",
              "    <div class=\"colab-df-container\">\n",
              "      <div>\n",
              "<style scoped>\n",
              "    .dataframe tbody tr th:only-of-type {\n",
              "        vertical-align: middle;\n",
              "    }\n",
              "\n",
              "    .dataframe tbody tr th {\n",
              "        vertical-align: top;\n",
              "    }\n",
              "\n",
              "    .dataframe thead th {\n",
              "        text-align: right;\n",
              "    }\n",
              "</style>\n",
              "<table border=\"1\" class=\"dataframe\">\n",
              "  <thead>\n",
              "    <tr style=\"text-align: right;\">\n",
              "      <th></th>\n",
              "      <th>PC1</th>\n",
              "      <th>PC2</th>\n",
              "      <th>PC3</th>\n",
              "      <th>PC4</th>\n",
              "      <th>PC5</th>\n",
              "      <th>PC6</th>\n",
              "      <th>PC7</th>\n",
              "      <th>PC8</th>\n",
              "      <th>PC9</th>\n",
              "      <th>PC10</th>\n",
              "    </tr>\n",
              "  </thead>\n",
              "  <tbody>\n",
              "    <tr>\n",
              "      <th>sampleA1</th>\n",
              "      <td>-8.933462</td>\n",
              "      <td>-0.911541</td>\n",
              "      <td>-1.446782</td>\n",
              "      <td>2.726594</td>\n",
              "      <td>-0.834008</td>\n",
              "      <td>0.997705</td>\n",
              "      <td>-0.392382</td>\n",
              "      <td>-0.394416</td>\n",
              "      <td>-0.896682</td>\n",
              "      <td>1.997639e-15</td>\n",
              "    </tr>\n",
              "    <tr>\n",
              "      <th>sampleA2</th>\n",
              "      <td>-9.595433</td>\n",
              "      <td>0.881439</td>\n",
              "      <td>-0.352418</td>\n",
              "      <td>-0.764406</td>\n",
              "      <td>-1.601256</td>\n",
              "      <td>-1.345314</td>\n",
              "      <td>1.256952</td>\n",
              "      <td>-1.235787</td>\n",
              "      <td>0.306387</td>\n",
              "      <td>8.152110e-16</td>\n",
              "    </tr>\n",
              "    <tr>\n",
              "      <th>sampleA3</th>\n",
              "      <td>-9.154987</td>\n",
              "      <td>-1.368998</td>\n",
              "      <td>0.754633</td>\n",
              "      <td>-0.680010</td>\n",
              "      <td>2.807192</td>\n",
              "      <td>-0.435024</td>\n",
              "      <td>0.854454</td>\n",
              "      <td>0.163620</td>\n",
              "      <td>-0.674146</td>\n",
              "      <td>3.585847e-16</td>\n",
              "    </tr>\n",
              "    <tr>\n",
              "      <th>sampleA4</th>\n",
              "      <td>-9.795019</td>\n",
              "      <td>0.922628</td>\n",
              "      <td>-1.913034</td>\n",
              "      <td>-1.708353</td>\n",
              "      <td>-0.479002</td>\n",
              "      <td>-0.014170</td>\n",
              "      <td>-0.748547</td>\n",
              "      <td>1.701894</td>\n",
              "      <td>0.215264</td>\n",
              "      <td>5.646465e-16</td>\n",
              "    </tr>\n",
              "    <tr>\n",
              "      <th>sampleA5</th>\n",
              "      <td>-9.342417</td>\n",
              "      <td>0.278920</td>\n",
              "      <td>2.967455</td>\n",
              "      <td>0.593371</td>\n",
              "      <td>0.140755</td>\n",
              "      <td>0.774526</td>\n",
              "      <td>-0.968507</td>\n",
              "      <td>-0.239420</td>\n",
              "      <td>1.045661</td>\n",
              "      <td>1.792160e-15</td>\n",
              "    </tr>\n",
              "    <tr>\n",
              "      <th>sampleB1</th>\n",
              "      <td>9.244601</td>\n",
              "      <td>1.645985</td>\n",
              "      <td>0.415608</td>\n",
              "      <td>0.934129</td>\n",
              "      <td>-0.164347</td>\n",
              "      <td>1.254565</td>\n",
              "      <td>1.840088</td>\n",
              "      <td>0.908845</td>\n",
              "      <td>0.221390</td>\n",
              "      <td>-7.061763e-16</td>\n",
              "    </tr>\n",
              "    <tr>\n",
              "      <th>sampleB2</th>\n",
              "      <td>9.955300</td>\n",
              "      <td>-2.730129</td>\n",
              "      <td>-1.265074</td>\n",
              "      <td>1.396050</td>\n",
              "      <td>0.379767</td>\n",
              "      <td>-1.180429</td>\n",
              "      <td>-0.116931</td>\n",
              "      <td>0.253460</td>\n",
              "      <td>1.020830</td>\n",
              "      <td>-4.296391e-16</td>\n",
              "    </tr>\n",
              "    <tr>\n",
              "      <th>sampleB3</th>\n",
              "      <td>9.140536</td>\n",
              "      <td>-1.679380</td>\n",
              "      <td>-0.599941</td>\n",
              "      <td>-2.617153</td>\n",
              "      <td>-0.250659</td>\n",
              "      <td>1.584989</td>\n",
              "      <td>-0.225849</td>\n",
              "      <td>-0.989117</td>\n",
              "      <td>-0.046791</td>\n",
              "      <td>-5.588835e-16</td>\n",
              "    </tr>\n",
              "    <tr>\n",
              "      <th>sampleB4</th>\n",
              "      <td>9.079987</td>\n",
              "      <td>3.425246</td>\n",
              "      <td>-0.903727</td>\n",
              "      <td>0.404471</td>\n",
              "      <td>1.487111</td>\n",
              "      <td>-0.537083</td>\n",
              "      <td>-0.966286</td>\n",
              "      <td>-0.795298</td>\n",
              "      <td>-0.182503</td>\n",
              "      <td>-1.111314e-15</td>\n",
              "    </tr>\n",
              "    <tr>\n",
              "      <th>sampleB5</th>\n",
              "      <td>9.400894</td>\n",
              "      <td>-0.464171</td>\n",
              "      <td>2.343282</td>\n",
              "      <td>-0.284693</td>\n",
              "      <td>-1.485553</td>\n",
              "      <td>-1.099765</td>\n",
              "      <td>-0.532991</td>\n",
              "      <td>0.626220</td>\n",
              "      <td>-1.009409</td>\n",
              "      <td>2.997422e-16</td>\n",
              "    </tr>\n",
              "  </tbody>\n",
              "</table>\n",
              "</div>\n",
              "      <button class=\"colab-df-convert\" onclick=\"convertToInteractive('df-07d45904-31d2-4cb0-84de-52b18ef6a523')\"\n",
              "              title=\"Convert this dataframe to an interactive table.\"\n",
              "              style=\"display:none;\">\n",
              "        \n",
              "  <svg xmlns=\"http://www.w3.org/2000/svg\" height=\"24px\"viewBox=\"0 0 24 24\"\n",
              "       width=\"24px\">\n",
              "    <path d=\"M0 0h24v24H0V0z\" fill=\"none\"/>\n",
              "    <path d=\"M18.56 5.44l.94 2.06.94-2.06 2.06-.94-2.06-.94-.94-2.06-.94 2.06-2.06.94zm-11 1L8.5 8.5l.94-2.06 2.06-.94-2.06-.94L8.5 2.5l-.94 2.06-2.06.94zm10 10l.94 2.06.94-2.06 2.06-.94-2.06-.94-.94-2.06-.94 2.06-2.06.94z\"/><path d=\"M17.41 7.96l-1.37-1.37c-.4-.4-.92-.59-1.43-.59-.52 0-1.04.2-1.43.59L10.3 9.45l-7.72 7.72c-.78.78-.78 2.05 0 2.83L4 21.41c.39.39.9.59 1.41.59.51 0 1.02-.2 1.41-.59l7.78-7.78 2.81-2.81c.8-.78.8-2.07 0-2.86zM5.41 20L4 18.59l7.72-7.72 1.47 1.35L5.41 20z\"/>\n",
              "  </svg>\n",
              "      </button>\n",
              "      \n",
              "  <style>\n",
              "    .colab-df-container {\n",
              "      display:flex;\n",
              "      flex-wrap:wrap;\n",
              "      gap: 12px;\n",
              "    }\n",
              "\n",
              "    .colab-df-convert {\n",
              "      background-color: #E8F0FE;\n",
              "      border: none;\n",
              "      border-radius: 50%;\n",
              "      cursor: pointer;\n",
              "      display: none;\n",
              "      fill: #1967D2;\n",
              "      height: 32px;\n",
              "      padding: 0 0 0 0;\n",
              "      width: 32px;\n",
              "    }\n",
              "\n",
              "    .colab-df-convert:hover {\n",
              "      background-color: #E2EBFA;\n",
              "      box-shadow: 0px 1px 2px rgba(60, 64, 67, 0.3), 0px 1px 3px 1px rgba(60, 64, 67, 0.15);\n",
              "      fill: #174EA6;\n",
              "    }\n",
              "\n",
              "    [theme=dark] .colab-df-convert {\n",
              "      background-color: #3B4455;\n",
              "      fill: #D2E3FC;\n",
              "    }\n",
              "\n",
              "    [theme=dark] .colab-df-convert:hover {\n",
              "      background-color: #434B5C;\n",
              "      box-shadow: 0px 1px 3px 1px rgba(0, 0, 0, 0.15);\n",
              "      filter: drop-shadow(0px 1px 2px rgba(0, 0, 0, 0.3));\n",
              "      fill: #FFFFFF;\n",
              "    }\n",
              "  </style>\n",
              "\n",
              "      <script>\n",
              "        const buttonEl =\n",
              "          document.querySelector('#df-07d45904-31d2-4cb0-84de-52b18ef6a523 button.colab-df-convert');\n",
              "        buttonEl.style.display =\n",
              "          google.colab.kernel.accessAllowed ? 'block' : 'none';\n",
              "\n",
              "        async function convertToInteractive(key) {\n",
              "          const element = document.querySelector('#df-07d45904-31d2-4cb0-84de-52b18ef6a523');\n",
              "          const dataTable =\n",
              "            await google.colab.kernel.invokeFunction('convertToInteractive',\n",
              "                                                     [key], {});\n",
              "          if (!dataTable) return;\n",
              "\n",
              "          const docLinkHtml = 'Like what you see? Visit the ' +\n",
              "            '<a target=\"_blank\" href=https://colab.research.google.com/notebooks/data_table.ipynb>data table notebook</a>'\n",
              "            + ' to learn more about interactive tables.';\n",
              "          element.innerHTML = '';\n",
              "          dataTable['output_type'] = 'display_data';\n",
              "          await google.colab.output.renderOutput(dataTable, element);\n",
              "          const docLink = document.createElement('div');\n",
              "          docLink.innerHTML = docLinkHtml;\n",
              "          element.appendChild(docLink);\n",
              "        }\n",
              "      </script>\n",
              "    </div>\n",
              "  </div>\n",
              "  "
            ],
            "text/plain": [
              "               PC1       PC2       PC3  ...       PC8       PC9          PC10\n",
              "sampleA1 -8.933462 -0.911541 -1.446782  ... -0.394416 -0.896682  1.997639e-15\n",
              "sampleA2 -9.595433  0.881439 -0.352418  ... -1.235787  0.306387  8.152110e-16\n",
              "sampleA3 -9.154987 -1.368998  0.754633  ...  0.163620 -0.674146  3.585847e-16\n",
              "sampleA4 -9.795019  0.922628 -1.913034  ...  1.701894  0.215264  5.646465e-16\n",
              "sampleA5 -9.342417  0.278920  2.967455  ... -0.239420  1.045661  1.792160e-15\n",
              "sampleB1  9.244601  1.645985  0.415608  ...  0.908845  0.221390 -7.061763e-16\n",
              "sampleB2  9.955300 -2.730129 -1.265074  ...  0.253460  1.020830 -4.296391e-16\n",
              "sampleB3  9.140536 -1.679380 -0.599941  ... -0.989117 -0.046791 -5.588835e-16\n",
              "sampleB4  9.079987  3.425246 -0.903727  ... -0.795298 -0.182503 -1.111314e-15\n",
              "sampleB5  9.400894 -0.464171  2.343282  ...  0.626220 -1.009409  2.997422e-16\n",
              "\n",
              "[10 rows x 10 columns]"
            ]
          },
          "metadata": {},
          "execution_count": 13
        }
      ]
    },
    {
      "cell_type": "code",
      "metadata": {
        "colab": {
          "base_uri": "https://localhost:8080/",
          "height": 404
        },
        "id": "CZ7b7cMXrjLH",
        "outputId": "22a96a19-1661-4ec7-f4da-da8c95f905ca"
      },
      "source": [
        "# graph\n",
        "plt.figure(figsize=(12,6))\n",
        "plt.scatter(pca_df.PC1, pca_df.PC2)\n",
        "plt.title('PCA graph')\n",
        "plt.xlabel(f'PC1 - {per_var[0]}%')\n",
        "plt.ylabel(f'PC2 - {per_var[1]}%')\n",
        "\n",
        "for sample in pca_df.index:\n",
        "  plt.annotate(sample, (pca_df.PC1.loc[sample], pca_df.PC2.loc[sample]) )\n",
        "\n",
        "plt.show()"
      ],
      "execution_count": 14,
      "outputs": [
        {
          "output_type": "display_data",
          "data": {
            "image/png": "[encoded data removed]",
            "text/plain": [
              "<Figure size 864x432 with 1 Axes>"
            ]
          },
          "metadata": {
            "needs_background": "light"
          }
        }
      ]
    },
    {
      "cell_type": "markdown",
      "source": [
        "# Consider All the Principal Components"
      ],
      "metadata": {
        "id": "HSCbSisIwSGT"
      }
    },
    {
      "cell_type": "code",
      "metadata": {
        "id": "X1k5haAcsIgX"
      },
      "source": [
        "# Multiply (weigh) by the explained proportion\n",
        "pca_df2 = pca_df.mul(pca.explained_variance_ratio_)"
      ],
      "execution_count": 15,
      "outputs": []
    },
    {
      "cell_type": "code",
      "source": [
        "# Sum of the components\n",
        "pca_df2 = pd.DataFrame({'sample':pca_df2.index, 'tt_component': pca_df2.sum(axis=1)}).sort_values(by='tt_component')\n",
        "\n",
        "# Plot\n",
        "pca_df2.plot.scatter(x='tt_component', y='sample', figsize=(8,8));"
      ],
      "metadata": {
        "colab": {
          "base_uri": "https://localhost:8080/",
          "height": 497
        },
        "id": "lEDtSR81xTIS",
        "outputId": "0823a52f-4d0b-436c-d93b-a6fab94147b7"
      },
      "execution_count": 18,
      "outputs": [
        {
          "output_type": "display_data",
          "data": {
            "image/png": "[encoded data removed]",
            "text/plain": [
              "<Figure size 576x576 with 1 Axes>"
            ]
          },
          "metadata": {
            "needs_background": "light"
          }
        }
      ]
    },
    {
      "cell_type": "code",
      "source": [
        ""
      ],
      "metadata": {
        "id": "-pCv0Ju5xUKn"
      },
      "execution_count": null,
      "outputs": []
    }
  ]
}
